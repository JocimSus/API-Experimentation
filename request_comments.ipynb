{
 "cells": [
  {
   "cell_type": "markdown",
   "metadata": {},
   "source": [
    "# Requesting Comments\n",
    "\n",
    "1. Insert your API Key from https://console.cloud.google.com/apis/api/youtube.googleapis.com to 'DEVELOPER_KEY' in your '.env' as a string.\n",
    "2. Insert your video id to 'videoId' as string. Example: https://www.youtube.com/watch?v=SIm2W9TtzR0, videoId='SIm2W9TtzR0'"
   ]
  },
  {
   "cell_type": "markdown",
   "metadata": {},
   "source": [
    "**Example**"
   ]
  },
  {
   "cell_type": "code",
   "execution_count": null,
   "metadata": {},
   "outputs": [],
   "source": [
    "import googleapiclient.discovery\n",
    "import googleapiclient.errors\n",
    "\n",
    "api_service_name = 'youtube'\n",
    "api_version = 'v3'\n",
    "\n",
    "youtube = googleapiclient.discovery.build(api_service_name, api_version, developerKey=DEVELOPER_KEY)\n",
    "\n",
    "request = youtube.commentThreads().list(\n",
    "    part='snippet',\n",
    "    videoId='0FtcHjI5lmw',\n",
    "    maxResults=100\n",
    ")\n",
    "response = request.execute()\n",
    "response\n",
    "\n",
    "# for item in response['items']:\n",
    "#     print(item['snippet']['topLevelComment']['snippet']['textDisplay'])"
   ]
  },
  {
   "cell_type": "markdown",
   "metadata": {},
   "source": [
    "# Requesting Comments to DataFrame"
   ]
  },
  {
   "cell_type": "markdown",
   "metadata": {},
   "source": [
    "**Import DEVELOPER_KEY, IMPORTANT!**<br>\n",
    "**RUN THIS FIRST BEFORE ANYTHING ELSE**"
   ]
  },
  {
   "cell_type": "code",
   "execution_count": 4,
   "metadata": {},
   "outputs": [],
   "source": [
    "import os\n",
    "from dotenv import load_dotenv\n",
    "\n",
    "load_dotenv()\n",
    "DEVELOPER_KEY = os.getenv('DEVELOPER_KEY')"
   ]
  },
  {
   "cell_type": "markdown",
   "metadata": {},
   "source": [
    "### Request for specific channel"
   ]
  },
  {
   "cell_type": "markdown",
   "metadata": {},
   "source": [
    "**Imports & Youtube API Init**"
   ]
  },
  {
   "cell_type": "code",
   "execution_count": 5,
   "metadata": {},
   "outputs": [],
   "source": [
    "import googleapiclient.discovery\n",
    "import googleapiclient.errors\n",
    "import pandas as pd\n",
    "\n",
    "api_service_name = 'youtube'\n",
    "api_version = 'v3'\n",
    "\n",
    "youtube = googleapiclient.discovery.build(api_service_name, api_version, developerKey=DEVELOPER_KEY)"
   ]
  },
  {
   "cell_type": "markdown",
   "metadata": {},
   "source": [
    "**Request Video Ids using Search**"
   ]
  },
  {
   "cell_type": "code",
   "execution_count": 47,
   "metadata": {},
   "outputs": [],
   "source": [
    "CHANNEL_ID = 'UCaizTs-t-jXjj8H0-S3ATYA'\n",
    "\n",
    "request_video_ids = youtube.search().list(\n",
    "    part='snippet',\n",
    "    channelId=CHANNEL_ID,\n",
    "    maxResults=50,\n",
    "    type='video',\n",
    ")\n",
    "response_video_ids = request_video_ids.execute()\n",
    "\n",
    "video_ids = []\n",
    "    \n",
    "while True:\n",
    "    for item in response_video_ids['items']:\n",
    "        video_ids.append(item['id']['videoId'])\n",
    "    try:\n",
    "        next_page_token_search = response_video_ids['nextPageToken']\n",
    "    except KeyError:\n",
    "        break\n",
    "    request_video_ids = youtube.search().list(\n",
    "        part='snippet',\n",
    "        channelId=CHANNEL_ID,\n",
    "        maxResults=50,\n",
    "        type='video',\n",
    "        pageToken=next_page_token_search\n",
    "    )\n",
    "    response_video_ids = request_video_ids.execute()"
   ]
  },
  {
   "cell_type": "markdown",
   "metadata": {},
   "source": [
    "**Request Comments for every Video Id**"
   ]
  },
  {
   "cell_type": "code",
   "execution_count": null,
   "metadata": {},
   "outputs": [],
   "source": [
    "comments = []\n",
    "\n",
    "for video_id in video_ids:\n",
    "    request_comments = youtube.commentThreads().list(\n",
    "        part='id,replies,snippet',\n",
    "        videoId=video_id,\n",
    "        maxResults=1000\n",
    "    )\n",
    "    response_comments = request_comments.execute()\n",
    "\n",
    "    while True:\n",
    "        for item in response_comments['items']:\n",
    "            comment = item['snippet']['topLevelComment']['snippet']\n",
    "            comments.append([\n",
    "            comment['authorDisplayName'],\n",
    "            comment['publishedAt'],\n",
    "            comment['likeCount'],\n",
    "            comment['textOriginal']\n",
    "        ])\n",
    "        try:\n",
    "            next_page_token_comments = response_comments['nextPageToken']\n",
    "        except KeyError:\n",
    "            break\n",
    "        request_comments = youtube.commentThreads().list(\n",
    "            part='id,replies,snippet',\n",
    "            videoId=video_id,\n",
    "            maxResults=1000,\n",
    "            pageToken=next_page_token_comments\n",
    "        )\n",
    "        response_comments = request_comments.execute()\n",
    "\n",
    "df = pd.DataFrame(comments, columns=['author', 'published_at', 'like_count', 'text'])"
   ]
  },
  {
   "cell_type": "code",
   "execution_count": null,
   "metadata": {},
   "outputs": [],
   "source": [
    "# df.head()\n",
    "df.sort_values('like_count', ascending=False)"
   ]
  }
 ],
 "metadata": {
  "kernelspec": {
   "display_name": ".venv",
   "language": "python",
   "name": "python3"
  },
  "language_info": {
   "codemirror_mode": {
    "name": "ipython",
    "version": 3
   },
   "file_extension": ".py",
   "mimetype": "text/x-python",
   "name": "python",
   "nbconvert_exporter": "python",
   "pygments_lexer": "ipython3",
   "version": "3.11.4"
  },
  "orig_nbformat": 4
 },
 "nbformat": 4,
 "nbformat_minor": 2
}
